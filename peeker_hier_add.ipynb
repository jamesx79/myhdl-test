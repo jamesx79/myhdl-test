{
 "cells": [
  {
   "cell_type": "markdown",
   "metadata": {},
   "source": [
    "# A Hierarchical Adder Example\n",
    "\n",
    "Peekers can also be used to monitor signals within sub-levels of a hierarchical design.\n",
    "Indices will be added to the signal names to distinguish them from one another."
   ]
  },
  {
   "cell_type": "code",
   "execution_count": 2,
   "metadata": {},
   "outputs": [
    {
     "name": "stderr",
     "output_type": "stream",
     "text": [
      "<class 'myhdl.StopSimulation'>: No more events\n"
     ]
    },
    {
     "data": {
      "text/html": [
       "<div><script type=\"WaveDrom\">{\"signal\": [{\"wave\": \"========\", \"data\": [\"3\", \"6\", \"3\", \"5\", \"2\", \"3\", \"2\", \"5\"], \"name\": \"a_bus\"}, {\"wave\": \"==.====.\", \"data\": [\"5\", \"4\", \"2\", \"1\", \"3\", \"6\"], \"name\": \"b_bus\"}, {\"wave\": \"===.====\", \"data\": [\"0\", \"2\", \"7\", \"3\", \"6\", \"0\", \"3\"], \"name\": \"sum_bus\"}, {\"wave\": \"101.0101\", \"name\": \"a[0]\"}, {\"wave\": \"10..1.0.\", \"name\": \"b[0]\"}, {\"wave\": \"0.......\", \"name\": \"c_in[0]\"}, {\"wave\": \"10...10.\", \"name\": \"c_out[0]\"}, {\"wave\": \"0.1..0.1\", \"name\": \"sum[0]\"}, {\"wave\": \"1..01..0\", \"name\": \"a[1]\"}, {\"wave\": \"0..101..\", \"name\": \"b[1]\"}, {\"wave\": \"10...10.\", \"name\": \"c_in[1]\"}, {\"wave\": \"10...1.0\", \"name\": \"c_out[1]\"}, {\"wave\": \"01....01\", \"name\": \"sum[1]\"}, {\"wave\": \"01010..1\", \"name\": \"a[2]\"}, {\"wave\": \"1..0..1.\", \"name\": \"b[2]\"}, {\"wave\": \"10...1.0\", \"name\": \"c_in[2]\"}, {\"wave\": \"1.0...1.\", \"name\": \"c_out[2]\"}, {\"wave\": \"0.1.010.\", \"name\": \"sum[2]\"}]}</script></div>"
      ]
     },
     "metadata": {},
     "output_type": "display_data"
    },
    {
     "data": {
      "application/javascript": [
       "$.getScript(\"http://wavedrom.com/wavedrom.min.js\", function () {\n",
       "$.getScript(\"http://wavedrom.com/skins/default.js\", function () {\n",
       "WaveDrom.ProcessAll();});\n",
       "});\n"
      ]
     },
     "metadata": {},
     "output_type": "display_data"
    }
   ],
   "source": [
    "from myhdl import *\n",
    "from myhdlpeek import Peeker\n",
    "\n",
    "def adder_bit(a, b, c_in, sum_, c_out):\n",
    "    '''Single bit adder.'''\n",
    "    @always_comb\n",
    "    def adder_logic():\n",
    "        sum_.next = a ^ b ^ c_in\n",
    "        c_out.next = (a & b) | (a & c_in) | (b & c_in)\n",
    "    \n",
    "    # Add some peekers to monitor the inputs and outputs.\n",
    "    # These will get replicated for each adder bit.\n",
    "    Peeker(a, 'a')\n",
    "    Peeker(b, 'b')\n",
    "    Peeker(c_in, 'c_in')\n",
    "    Peeker(sum_, 'sum')\n",
    "    Peeker(c_out, 'c_out')\n",
    "    \n",
    "    return adder_logic\n",
    "\n",
    "def adder(a, b, sum_):\n",
    "    '''Connect single-bit adders to create a complete adder.'''\n",
    "    c = [Signal(bool(0)) for _ in range(len(a)+1)] # Carry signals between stages.\n",
    "    s = [Signal(bool(0)) for _ in range(len(a))]   # Sum bit for each stage.\n",
    "    stages = []  # Storage for adder bit instances.\n",
    "    # Create the adder bits and connect them together.\n",
    "    for i in range(len(a)):\n",
    "        stages.append( adder_bit(a=a(i), b=b(i), sum_=s[i], c_in=c[i], c_out=c[i+1]) )\n",
    "    # Concatenate the sum bits and send them out on the sum_ output.\n",
    "    @always_comb\n",
    "    def make_sum():\n",
    "        sum_.next = ConcatSignal(*reversed(s))\n",
    "    return instances()  # Return all the adder stage instances.\n",
    "\n",
    "# Create signals for interfacing to the adder.\n",
    "a, b, sum_ = [Signal(intbv(0,0,8)) for _ in range(3)]\n",
    "\n",
    "# Clear-out any existing peeker stuff before instantiating the adder.\n",
    "Peeker.clear()\n",
    "\n",
    "# Instantiate the adder.\n",
    "add_1 = adder(a=a, b=b, sum_=sum_)\n",
    "\n",
    "# Create some more peekers to monitor the top-level buses.\n",
    "Peeker(a, 'a_bus')\n",
    "Peeker(b, 'b_bus')\n",
    "Peeker(sum_, 'sum_bus')\n",
    "\n",
    "# Create a testbench generator that applies random inputs to the adder.\n",
    "from random import randrange\n",
    "def test():\n",
    "    for _ in range(8):\n",
    "        a.next, b.next = randrange(0, a.max), randrange(0, a.max)\n",
    "        yield delay(1)\n",
    "\n",
    "# Simulate the adder, testbench and peekers.\n",
    "Simulation(add_1, test(), *Peeker.instances()).run()\n",
    "\n",
    "# Show all the signals in the hierarchical design.\n",
    "Peeker.to_wavedrom()\n"
   ]
  }
 ],
 "metadata": {
  "kernelspec": {
   "display_name": "Python 3",
   "language": "python",
   "name": "python3"
  },
  "language_info": {
   "codemirror_mode": {
    "name": "ipython",
    "version": 3
   },
   "file_extension": ".py",
   "mimetype": "text/x-python",
   "name": "python",
   "nbconvert_exporter": "python",
   "pygments_lexer": "ipython3",
   "version": "3.5.2"
  }
 },
 "nbformat": 4,
 "nbformat_minor": 2
}
